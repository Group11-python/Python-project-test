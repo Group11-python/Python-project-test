{
 "cells": [
  {
   "cell_type": "code",
   "execution_count": 2,
   "metadata": {},
   "outputs": [
    {
     "name": "stdout",
     "output_type": "stream",
     "text": [
      "Visit the app at http://127.0.0.1:8050/\n"
     ]
    },
    {
     "data": {
      "text/html": [
       "\n",
       "        <iframe\n",
       "            width=\"100%\"\n",
       "            height=\"650\"\n",
       "            src=\"http://127.0.0.1:8050/\"\n",
       "            frameborder=\"0\"\n",
       "            allowfullscreen\n",
       "            \n",
       "        ></iframe>\n",
       "        "
      ],
      "text/plain": [
       "<IPython.lib.display.IFrame at 0x12b1c0c7770>"
      ]
     },
     "metadata": {},
     "output_type": "display_data"
    }
   ],
   "source": [
    "from dash import Dash\n",
    "from dash import dcc \n",
    "from dash import html\n",
    "import plotly.express as px\n",
    "import pandas as pd\n",
    "import plotly.graph_objects as go\n",
    "from dash.dependencies import Input, Output\n",
    "\n",
    "# Creating a DataFrame from the data\n",
    "df = pd.read_csv(\"food.csv\")\n",
    "# Initialize the Dash app\n",
    "app = Dash(__name__)\n",
    "\n",
    "# App Layout\n",
    "app.layout = html.Div([\n",
    "    html.H1(\"Wine Dashboard\"),\n",
    "    \n",
    "    # Dropdown for Region selection\n",
    "    dcc.Dropdown(\n",
    "        id='region-dropdown',\n",
    "        options=[{'label': region, 'value': region} for region in df['Region'].unique()],\n",
    "        value='Chile',  # Default value\n",
    "        multi=False,\n",
    "        placeholder=\"Select a Region\"\n",
    "    ),\n",
    "    \n",
    "    # Bar chart for ratings distribution\n",
    "    dcc.Graph(id='rating-bar-chart'),\n",
    "\n",
    "    # Scatter plot for Price vs Alcohol content\n",
    "    dcc.Graph(id='price-alcohol-scatter'),\n",
    "\n",
    "    # Pie chart for Wine Style distribution\n",
    "    dcc.Graph(id='wine-style-pie-chart'),\n",
    "\n",
    "    # Box plot \n",
    "\n",
    "    # Data table for wine details\n",
    "    html.Div([\n",
    "        html.H4(\"Wine Details\"),\n",
    "        html.Div(id='wine-details')\n",
    "    ])\n",
    "])\n",
    "\n",
    "# Callback to update the rating bar chart\n",
    "@app.callback(\n",
    "    Output('rating-bar-chart', 'figure'),\n",
    "    [Input('region-dropdown', 'value')]\n",
    ")\n",
    "def update_rating_bar_chart(region):\n",
    "    filtered_df = df[df['Region'] == region]\n",
    "    fig = px.bar(filtered_df, x='Name', y='Rating', title=f'Wine Ratings in {region}')\n",
    "    return fig\n",
    "\n",
    "# Callback to update the scatter plot (Price vs Alcohol content)\n",
    "@app.callback(\n",
    "    Output('price-alcohol-scatter', 'figure'),\n",
    "    [Input('region-dropdown', 'value')]\n",
    ")\n",
    "def update_price_alcohol_scatter(region):\n",
    "    filtered_df = df[df['Region'] == region]\n",
    "    fig = px.scatter(filtered_df, x='Price', y='Alcohol content', color='Wine style', title=f'Price vs Alcohol Content in {region}')\n",
    "    return fig\n",
    "\n",
    "# Callback to update the wine style pie chart\n",
    "@app.callback(\n",
    "    Output('wine-style-pie-chart', 'figure'),\n",
    "    [Input('region-dropdown', 'value')]\n",
    ")\n",
    "def update_wine_style_pie_chart(region):\n",
    "    filtered_df = df[df['Region'] == region]\n",
    "    fig = px.pie(filtered_df, names='Wine style', title=f'Wine Style Distribution in {region}')\n",
    "    return fig\n",
    "\n",
    "# Callback to update the wine details table\n",
    "@app.callback(\n",
    "    Output('wine-details', 'children'),\n",
    "    [Input('region-dropdown', 'value')]\n",
    ")\n",
    "def update_wine_details(region):\n",
    "    filtered_df = df[df['Region'] == region]\n",
    "    table = html.Table([\n",
    "        html.Thead(html.Tr([html.Th(col) for col in filtered_df.columns])),\n",
    "        html.Tbody([\n",
    "            html.Tr([\n",
    "                html.Td(filtered_df.iloc[i][col]) for col in filtered_df.columns\n",
    "            ]) for i in range(len(filtered_df))\n",
    "        ])\n",
    "    ])\n",
    "    return table\n",
    "\n",
    "# Run the app\n",
    "if __name__ == '__main__':\n",
    "    print(\"Visit the app at http://127.0.0.1:8050/\")\n",
    "    app.run_server(debug=True)   \n"
   ]
  }
 ],
 "metadata": {
  "kernelspec": {
   "display_name": "base",
   "language": "python",
   "name": "python3"
  },
  "language_info": {
   "codemirror_mode": {
    "name": "ipython",
    "version": 3
   },
   "file_extension": ".py",
   "mimetype": "text/x-python",
   "name": "python",
   "nbconvert_exporter": "python",
   "pygments_lexer": "ipython3",
   "version": "3.12.7"
  }
 },
 "nbformat": 4,
 "nbformat_minor": 2
}
